{
 "cells": [
  {
   "cell_type": "code",
   "execution_count": 1,
   "metadata": {},
   "outputs": [
    {
     "name": "stderr",
     "output_type": "stream",
     "text": [
      "/usr/local/lib/python3.10/dist-packages/tqdm/auto.py:21: TqdmWarning: IProgress not found. Please update jupyter and ipywidgets. See https://ipywidgets.readthedocs.io/en/stable/user_install.html\n",
      "  from .autonotebook import tqdm as notebook_tqdm\n"
     ]
    }
   ],
   "source": [
    "from transformers import AutoModel, AutoTokenizer\n",
    "\n",
    "# Replace 'bert-base-cased' with the appropriate BERT model name\n",
    "model_name = 'model_dir'\n",
    "tokenizer = AutoTokenizer.from_pretrained(model_name)\n",
    "model = AutoModel.from_pretrained(model_name)\n"
   ]
  },
  {
   "cell_type": "code",
   "execution_count": 2,
   "metadata": {},
   "outputs": [],
   "source": [
    "import torch\n",
    "\n",
    "# Replace 'input_text' with your sample input text\n",
    "input_text = \"Sample input text\"\n",
    "inputs = tokenizer(input_text, return_tensors='pt')\n",
    "with torch.no_grad():\n",
    "    outputs = model(**inputs)\n"
   ]
  },
  {
   "cell_type": "code",
   "execution_count": 3,
   "metadata": {},
   "outputs": [],
   "source": [
    "import onnxruntime\n",
    "\n",
    "# Replace 'onnx_dir/optimized_bert.onnx' with the path to your optimized BERT ONNX model\n",
    "onnx_model_path = 'onnx_dir/onnx_bert/bert.onnx'\n",
    "ort_session = onnxruntime.InferenceSession(onnx_model_path)\n"
   ]
  },
  {
   "cell_type": "code",
   "execution_count": 4,
   "metadata": {},
   "outputs": [],
   "source": [
    "import numpy as np\n",
    "\n",
    "# Convert inputs to ONNX-compatible format (input tensor names can be found in the model's inputs)\n",
    "input_name = ort_session.get_inputs()[0].name\n",
    "# # Ensure 'token_type_ids' is present in the input feed\n",
    "# input_name = ort_session.get_inputs()[0].name\n",
    "inputs_onnx = {\n",
    "    input_name: np.array(inputs['input_ids']),\n",
    "    'attention_mask': np.array(inputs['attention_mask']),\n",
    "    'token_type_ids': np.array(inputs['token_type_ids'])\n",
    "}\n",
    "\n",
    "outputs_onnx = ort_session.run(None, inputs_onnx)\n",
    "\n"
   ]
  },
  {
   "cell_type": "code",
   "execution_count": 5,
   "metadata": {},
   "outputs": [
    {
     "name": "stdout",
     "output_type": "stream",
     "text": [
      "Original model run time:0.1712489128112793\n",
      "Onnx model run time: 0.05049324035644531\n"
     ]
    }
   ],
   "source": [
    "import time\n",
    "\n",
    "# Measure inference time for the original BERT model\n",
    "start_time = time.time()\n",
    "with torch.no_grad():\n",
    "    outputs = model(**inputs)\n",
    "end_time = time.time()\n",
    "original_inference_time = end_time - start_time\n",
    "\n",
    "# Measure inference time for the optimized BERT model\n",
    "start_time = time.time()\n",
    "outputs_onnx = ort_session.run(None, inputs_onnx)\n",
    "end_time = time.time()\n",
    "optimized_inference_time = end_time - start_time\n",
    "\n",
    "# Compare outputs (outputs_onnx and outputs) to ensure they match\n",
    "print(f\"Original model run time:{original_inference_time}\")\n",
    "print(f\"Onnx model run time: {optimized_inference_time}\")\n"
   ]
  }
 ],
 "metadata": {
  "kernelspec": {
   "display_name": "Python 3",
   "language": "python",
   "name": "python3"
  },
  "language_info": {
   "codemirror_mode": {
    "name": "ipython",
    "version": 3
   },
   "file_extension": ".py",
   "mimetype": "text/x-python",
   "name": "python",
   "nbconvert_exporter": "python",
   "pygments_lexer": "ipython3",
   "version": "3.10.12"
  },
  "orig_nbformat": 4
 },
 "nbformat": 4,
 "nbformat_minor": 2
}
